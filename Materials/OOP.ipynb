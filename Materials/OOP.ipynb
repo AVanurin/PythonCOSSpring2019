{
 "cells": [
  {
   "cell_type": "markdown",
   "metadata": {},
   "source": [
    "# Объектно-ориентированное программирование"
   ]
  },
  {
   "cell_type": "markdown",
   "metadata": {},
   "source": [
    "__Класс (англ. Class)__ - элемент программы, описывающий абстрактный тип данных и реализацию этих данных. Класс объявляется уникальным именем, набором классовых переменных, называемых __полями__ класса, а также набором функций класса, называемых __методами (англ. Method)__ класса. Классы могут быть как математической моделью некоторой сущности реального мира, так и исключительной абстракции мира компьютерных наук  "
   ]
  },
  {
   "cell_type": "markdown",
   "metadata": {},
   "source": [
    "Классы объявляются ключевым словом `class`. Методы объявляются как функции внутри объявления класса"
   ]
  },
  {
   "cell_type": "code",
   "execution_count": 6,
   "metadata": {},
   "outputs": [],
   "source": [
    "class VeryFirstClass:\n",
    "\n",
    "    def first_method(self):\n",
    "        pass\n",
    "    \n",
    "    def second_method(self):\n",
    "        pass"
   ]
  },
  {
   "cell_type": "markdown",
   "metadata": {},
   "source": [
    "Классы имеют, при некотором допущении, описательную функцию в программировании. Роль данных выполняют __экземпляры (англ. Instance)__ класса. Другими словами, взаимодействие происходит с экземплярами классов, а не с классами как таковыми. Если класс выступает как шаблон, общий для всех экземпляров, то экземпляр — это конкретная информация с ее реализацией"
   ]
  },
  {
   "cell_type": "code",
   "execution_count": 7,
   "metadata": {},
   "outputs": [
    {
     "name": "stdout",
     "output_type": "stream",
     "text": [
      "instance #1\n",
      "instance #2\n"
     ]
    }
   ],
   "source": [
    "# Создаем 2 экземпляра класса\n",
    "inst_1 = VeryFirstClass()\n",
    "inst_2 = VeryFirstClass()\n",
    "\n",
    "# Меняем поля обоих методов (даже если их не было. Да, это Python)\n",
    "inst_1.name = 'instance #1'\n",
    "inst_2.name = 'instance #2'\n",
    "\n",
    "print(inst_1.name)\n",
    "print(inst_2.name)\n",
    "\n",
    "# Вызываем методы экземпляров через точку\n",
    "inst_1.first_method()\n",
    "inst_2.second_method()"
   ]
  },
  {
   "cell_type": "markdown",
   "metadata": {},
   "source": [
    "Обратите внимание, что мы вызываем методы без аргументов, а сами методы требовали один аргумент"
   ]
  },
  {
   "cell_type": "markdown",
   "metadata": {},
   "source": [
    "## Инициализаторы"
   ]
  },
  {
   "cell_type": "markdown",
   "metadata": {},
   "source": [
    "__Инициализатор (англ. initializer)__ - метод, который будет вызван раньше любого обращения к экземпляру.  \n",
    " Другое название инициализатора - __конструктор__. Конструкторы собирают и создают экземпляры. Это единственный способ создать новый экземпляр класса. Конструкторы решают проблему начальных значений полей класса."
   ]
  },
  {
   "cell_type": "markdown",
   "metadata": {},
   "source": [
    "Инициализатор объявляется словом `__init__()`"
   ]
  },
  {
   "cell_type": "code",
   "execution_count": 8,
   "metadata": {},
   "outputs": [],
   "source": [
    "class ClassName:\n",
    "    def __init__(self, id):\n",
    "        self.id = id\n",
    "    \n",
    "    def getId(self):\n",
    "        return self.id"
   ]
  },
  {
   "cell_type": "markdown",
   "metadata": {},
   "source": [
    "Вызывается конктруктор названием класса"
   ]
  },
  {
   "cell_type": "code",
   "execution_count": 10,
   "metadata": {},
   "outputs": [
    {
     "name": "stdout",
     "output_type": "stream",
     "text": [
      "1\n"
     ]
    }
   ],
   "source": [
    "instance = ClassName(1)\n",
    "\n",
    "print(instance.getId())"
   ]
  },
  {
   "cell_type": "markdown",
   "metadata": {},
   "source": [
    "Любой класс имеет конструктор. Если программист его не предоставил, Python опишет его сам"
   ]
  },
  {
   "cell_type": "markdown",
   "metadata": {},
   "source": [
    "## Деструкторы"
   ]
  },
  {
   "cell_type": "markdown",
   "metadata": {},
   "source": [
    "__Деструктор (англ. Destructor)__ - метод для деинициализации экземпляра класса (освобождение памяти). В Python же существует путаница между деструкторами и финализаторами. __Финализатор (англ. finalizer)__ - метод, выполняющийся непосредственно перед отправкой в утиль. Разница между методами заключается в моменте вызова. В Python программист предоставляет финализатор, а не деструктор, но тем не менее все называют их деструкторами"
   ]
  },
  {
   "cell_type": "markdown",
   "metadata": {},
   "source": [
    "Деструкторы требуются только в тех случаях, когда есть реализация работы с памятью, основанная не на встроенных методах Python, и при работе с системными ресурсами. В остальных случаях можно спокойно полагаться на сборщик мусора Python"
   ]
  },
  {
   "cell_type": "markdown",
   "metadata": {},
   "source": [
    "Объявляется финализатор словом `__del__()`"
   ]
  },
  {
   "cell_type": "code",
   "execution_count": 12,
   "metadata": {},
   "outputs": [
    {
     "name": "stdout",
     "output_type": "stream",
     "text": [
      "This line of code\n",
      "Now that line of code\n"
     ]
    }
   ],
   "source": [
    "class SomeClass:\n",
    "    def __init__(self):\n",
    "        print(\"This line of code\")\n",
    "        \n",
    "    def method(self):\n",
    "        print(\"Now that line of code\")\n",
    "        \n",
    "    def __del__(self):\n",
    "        # В юпитеровском документе вы эту строчку не увидете, так как никакого освобождения памяти не происходит\n",
    "        print(\"Finally this line of code\")\n",
    "        \n",
    "ins = SomeClass()\n",
    "ins.method()"
   ]
  },
  {
   "cell_type": "markdown",
   "metadata": {},
   "source": [
    "# Магические методы"
   ]
  },
  {
   "cell_type": "markdown",
   "metadata": {},
   "source": [
    "Магические методы - методы, которые добавляют \"щепотку магии\" в класс (это не шутка). Подобные методы имеют названия, обрамленные символами `__` c двух сторон. Такие методы нужны для упрощения работы с экземплярами класса. Они ипользуются для определения работы с различными операторами (`+`,`-`,`*` и т.д.), преобразования в другие типы, работы функции print и т.д."
   ]
  },
  {
   "cell_type": "markdown",
   "metadata": {},
   "source": [
    "### Работа с математическими операторами"
   ]
  },
  {
   "cell_type": "markdown",
   "metadata": {},
   "source": [
    "Допустим, у нас есть класс, реализующий координаты какого-либо объекта на плоскости, и требуем легкой работы с математическими операторами"
   ]
  },
  {
   "cell_type": "code",
   "execution_count": 13,
   "metadata": {},
   "outputs": [],
   "source": [
    "class Coordinates:\n",
    "    def __init__(self, x=0, y=0):\n",
    "        self.x = x\n",
    "        self.y = y\n",
    "        \n",
    "    def __add__(self, other):\n",
    "        temp = Coordinates(x = self.x, y = self.y)\n",
    "        temp.x += other.x\n",
    "        temp.y += other.y \n",
    "        return temp\n",
    "        \n",
    "    def __sub__(self, other):\n",
    "        temp = Coordinates(x = self.x, y = self.y)\n",
    "        temp.x -= other.x\n",
    "        temp.y -= other.y\n",
    "        return temp"
   ]
  },
  {
   "cell_type": "markdown",
   "metadata": {},
   "source": [
    "Метод `__add__` отвечает за сложение с помощью оператора `+`, а за вычитание с помощью `-` - `__sub__`. Методы принимают два аргумента - два операнда. То, что возвращают методы - результаты сложения и вычитания."
   ]
  },
  {
   "cell_type": "code",
   "execution_count": 36,
   "metadata": {},
   "outputs": [
    {
     "name": "stdout",
     "output_type": "stream",
     "text": [
      "<__main__.Coordinates object at 0x107fd3898>\n",
      "15 42\n",
      "10 40\n"
     ]
    }
   ],
   "source": [
    "cord_1 = Coordinates(10, 20)\n",
    "cord_2 = Coordinates(5, 12)\n",
    "\n",
    "cord_3 = cord_1 + cord_2\n",
    "print(cord_3.x, cord_3.y)\n",
    "\n",
    "cord_4 = cord_3 - Coordinates(5, 2)\n",
    "print(cord_4.x, cord_4.y)"
   ]
  },
  {
   "cell_type": "markdown",
   "metadata": {},
   "source": [
    "### Строковое представление "
   ]
  },
  {
   "cell_type": "markdown",
   "metadata": {},
   "source": [
    "Удобное представление экземпляра класса в виде строки является очень важной задачей. Ситуаций, когда это может потребоваться, две. Первый случай - нам необходимо сделать print() дебага программы с получением всей необходимой информации об экземпляре. Второй случай - нам интересно увидеть красивое представление в виде строки. Первый случай более необходим для разработчика класса, второй — для того, кто будет использовать этот класс. Соответсвенно, в Python существуют два магических метода: `__repr__` для полной информции при дебаге, а `__str__` для конечного пользователя класса"
   ]
  },
  {
   "cell_type": "code",
   "execution_count": 21,
   "metadata": {},
   "outputs": [
    {
     "name": "stdout",
     "output_type": "stream",
     "text": [
      "Battery:100%\n",
      "instance of Battery with. current charge 200, max charge 200\n"
     ]
    }
   ],
   "source": [
    "class Battery:\n",
    "    def __init__(self, max_charge):\n",
    "        self.max_charge = max_charge\n",
    "        self.current_charge = max_charge\n",
    "        \n",
    "    def __str__(self):\n",
    "        return \"Battery:{}%\".format(self.current_charge//self.max_charge * 100)\n",
    "        \n",
    "    def __repr__(self):\n",
    "        return \"instance of {} with current charge {}, max charge {}\".format(type(self).__name__, \n",
    "                                                                               self.current_charge, self.max_charge)\n",
    "    \n",
    "\n",
    "print(Battery(100))\n",
    "print(repr(Battery(200)))"
   ]
  },
  {
   "cell_type": "markdown",
   "metadata": {},
   "source": [
    "### Преобразование в другие типы "
   ]
  },
  {
   "cell_type": "markdown",
   "metadata": {},
   "source": [
    "С помощью магических методов можно определить, как экземпляр класса преобразуется в типы `int` или `float` с помощью соответвующих методов `__int__` или `__float__`.  "
   ]
  },
  {
   "cell_type": "code",
   "execution_count": null,
   "metadata": {},
   "outputs": [],
   "source": [
    "class "
   ]
  },
  {
   "cell_type": "markdown",
   "metadata": {},
   "source": [
    "### Прочие методы "
   ]
  },
  {
   "cell_type": "code",
   "execution_count": null,
   "metadata": {},
   "outputs": [],
   "source": []
  },
  {
   "cell_type": "code",
   "execution_count": null,
   "metadata": {},
   "outputs": [],
   "source": []
  },
  {
   "cell_type": "markdown",
   "metadata": {},
   "source": [
    "## Наследование"
   ]
  },
  {
   "cell_type": "markdown",
   "metadata": {},
   "source": [
    "__Наследование (англ. inheritance)__ - явление передачи данных и реализации от одного типа данных (суперкласс или родительский класс) к дочернему классу"
   ]
  },
  {
   "cell_type": "code",
   "execution_count": 22,
   "metadata": {},
   "outputs": [
    {
     "name": "stdout",
     "output_type": "stream",
     "text": [
      "Method was called!\n"
     ]
    }
   ],
   "source": [
    "class ParentClass:\n",
    "    def __init__(self):\n",
    "        pass\n",
    "    \n",
    "    def method(self):\n",
    "        print(\"Method was called!\")\n",
    "        \n",
    "\n",
    "class ChildClass(ParentClass):\n",
    "    pass\n",
    "\n",
    "instance = ChildClass()\n",
    "instance.method()"
   ]
  },
  {
   "cell_type": "markdown",
   "metadata": {},
   "source": [
    "### Переопределение методов"
   ]
  },
  {
   "cell_type": "code",
   "execution_count": null,
   "metadata": {},
   "outputs": [],
   "source": [
    "Родительские методы можно переопределять. Это требуется для изменения поведения класса"
   ]
  },
  {
   "cell_type": "code",
   "execution_count": 23,
   "metadata": {},
   "outputs": [
    {
     "name": "stdout",
     "output_type": "stream",
     "text": [
      "ClassA init\n",
      "ClassB init\n",
      "ClassA method\n",
      "ClassB method\n",
      "ClassA methodA\n",
      "ClassA methodA\n"
     ]
    }
   ],
   "source": [
    "class ClassA:\n",
    "    def __init__(self):\n",
    "        print(\"ClassA init\")\n",
    "    \n",
    "    def method(self):\n",
    "        print(\"ClassA method\")\n",
    "    \n",
    "    def methodA(self):\n",
    "        print(\"ClassA methodA\")\n",
    "    \n",
    "class ClassB(ClassA):\n",
    "    def __init__(self):\n",
    "        print(\"ClassB init\")\n",
    "        \n",
    "    def method(self):\n",
    "        print(\"ClassB method\")\n",
    "        \n",
    "        \n",
    "inst_1 = ClassA()\n",
    "inst_2 = ClassB()\n",
    "\n",
    "inst_1.method()\n",
    "inst_2.method()\n",
    "\n",
    "inst_1.methodA()\n",
    "inst_2.methodA()"
   ]
  },
  {
   "cell_type": "markdown",
   "metadata": {},
   "source": [
    "### Использование super"
   ]
  },
  {
   "cell_type": "markdown",
   "metadata": {},
   "source": [
    "Слово `super` используется для того, чтобы сослаться на родительский объект"
   ]
  },
  {
   "cell_type": "code",
   "execution_count": 27,
   "metadata": {},
   "outputs": [
    {
     "name": "stdout",
     "output_type": "stream",
     "text": [
      "ClassSuper init\n",
      "NormalClass init\n"
     ]
    }
   ],
   "source": [
    "class ClassSuper:\n",
    "    def __init__(self):\n",
    "        print(\"ClassSuper init\")\n",
    "        \n",
    "class NormalClass(ClassSuper):\n",
    "    def __init__(self):\n",
    "        super().__init__()\n",
    "        print(\"NormalClass init\")\n",
    "        \n",
    "inst = NormalClass()"
   ]
  },
  {
   "cell_type": "markdown",
   "metadata": {},
   "source": [
    "### Множественное наследование"
   ]
  },
  {
   "cell_type": "markdown",
   "metadata": {},
   "source": [
    "Python поддерживает множественное наследование. Это означает, что один класс может иметь более одного родительского класса "
   ]
  },
  {
   "cell_type": "code",
   "execution_count": 33,
   "metadata": {},
   "outputs": [
    {
     "name": "stdout",
     "output_type": "stream",
     "text": [
      "method A\n",
      "method B\n",
      "method of ClassA\n"
     ]
    }
   ],
   "source": [
    "class ClassA:\n",
    "    def __init__(self):\n",
    "        print(\"ClassA init\")\n",
    "    \n",
    "    def method(self):\n",
    "        print(\"method of ClassA\")\n",
    "    \n",
    "    def methodA(self):\n",
    "        print(\"method A\")\n",
    "    \n",
    "    \n",
    "class ClassB:\n",
    "    def __init__(self):\n",
    "        print(\"ClassB init\")\n",
    "    \n",
    "    def method(self):\n",
    "        print(\"method of ClassB\")\n",
    "    \n",
    "    def methodB(self):\n",
    "        print(\"method B\")\n",
    "    \n",
    "    \n",
    "class ClassAB(ClassA, ClassB):\n",
    "    def __init__(self):\n",
    "        pass\n",
    "    \n",
    "inst = ClassAB()\n",
    "inst.methodA()\n",
    "inst.methodB()\n",
    "inst.method()"
   ]
  },
  {
   "cell_type": "markdown",
   "metadata": {},
   "source": [
    "### Использование суперклассов при множественном наследовании "
   ]
  },
  {
   "cell_type": "markdown",
   "metadata": {},
   "source": [
    "Может оказаться важным отработать все конструкторы суперклассов. В такой задаче придется писать по-другому"
   ]
  },
  {
   "cell_type": "code",
   "execution_count": 35,
   "metadata": {},
   "outputs": [
    {
     "name": "stdout",
     "output_type": "stream",
     "text": [
      "ClassA init\n",
      "ClassB init\n",
      "ClassA init\n",
      "ClassAB_new init\n"
     ]
    }
   ],
   "source": [
    "class ClassAB_new(ClassA, ClassB):\n",
    "    def __init__(self):\n",
    "        ClassA.__init__(self)\n",
    "        ClassB.__init__(self)\n",
    "        ClassA.__init__(self)\n",
    "        print(\"ClassAB_new init\")\n",
    "        \n",
    "inst = ClassAB_new()"
   ]
  }
 ],
 "metadata": {
  "kernelspec": {
   "display_name": "Python 3",
   "language": "python",
   "name": "python3"
  },
  "language_info": {
   "codemirror_mode": {
    "name": "ipython",
    "version": 3
   },
   "file_extension": ".py",
   "mimetype": "text/x-python",
   "name": "python",
   "nbconvert_exporter": "python",
   "pygments_lexer": "ipython3",
   "version": "3.7.1"
  }
 },
 "nbformat": 4,
 "nbformat_minor": 2
}
