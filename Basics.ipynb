{
 "cells": [
  {
   "cell_type": "markdown",
   "metadata": {},
   "source": [
    "# Основы Python"
   ]
  },
  {
   "cell_type": "markdown",
   "metadata": {},
   "source": [
    "## Основные типы"
   ]
  },
  {
   "cell_type": "markdown",
   "metadata": {},
   "source": [
    "Переменные в Python не требуют указания типов. При этом тип переменной может изменяться"
   ]
  },
  {
   "cell_type": "code",
   "execution_count": 1,
   "metadata": {},
   "outputs": [
    {
     "name": "stdout",
     "output_type": "stream",
     "text": [
      "(-1+1j)\n",
      "10.0\n"
     ]
    }
   ],
   "source": [
    "var_1 = 10\n",
    "var_2 = 0.5\n",
    "var_3 = complex(-1, 1)\n",
    "print(var_3)\n",
    "\n",
    "var_4 = False\n",
    "var_4 = 10.0\n",
    "print(var_4)\n",
    "\n",
    "var_5 = None"
   ]
  },
  {
   "cell_type": "markdown",
   "metadata": {},
   "source": [
    "## Строки"
   ]
  },
  {
   "cell_type": "code",
   "execution_count": 2,
   "metadata": {},
   "outputs": [
    {
     "name": "stdout",
     "output_type": "stream",
     "text": [
      "\n",
      "А вот так можно работать с многострочным литералом,\n",
      "причем можно использовать обычные кавычки без \"Экранирования\".\n",
      "Впрочем, апострофы 'тоже работают\n",
      "\n"
     ]
    }
   ],
   "source": [
    "line_1 = 'Эта строка не нуждается в \"экранировании\" кавычек'\n",
    "line_2 = \"А вот тут уже придется \\\"экранировать\\\" кавычки. С другой стороны зато апострофы' не нужно\"\n",
    "line_3 = '''\n",
    "А вот так можно работать с многострочным литералом,\n",
    "причем можно использовать обычные кавычки без \"Экранирования\".\n",
    "Впрочем, апострофы 'тоже работают\n",
    "'''\n",
    "print(line_3)"
   ]
  },
  {
   "cell_type": "markdown",
   "metadata": {},
   "source": [
    "__Экранирование__(англ. Escaping) - подмена какого либо символа(часто это управляющие элементы строки такие как перевод строки) другим символом или набором символом. Так в примере выше чтобы отобразить во второй строке символ `\"` пришлось использовать `\\\"`. Другие примеры в коде ниже"
   ]
  },
  {
   "cell_type": "code",
   "execution_count": 3,
   "metadata": {},
   "outputs": [
    {
     "name": "stdout",
     "output_type": "stream",
     "text": [
      "Это первая строка\n",
      "А это вторая.\n",
      "\n",
      "Использовать систему контроля версий\t->\tСмышленый\t\n",
      "Использовать облако google drive\t->\tГений\t\n",
      "Использовать переписку с собой в VK\t->\tСверхразум\t\n",
      "\n",
      "ᛐᚢᛈᚳᛙ\n"
     ]
    }
   ],
   "source": [
    "new_line = \"Это первая строка\\nА это вторая.\"\n",
    "print(new_line)\n",
    "\n",
    "print()\n",
    "\n",
    "tabbed_line = \"Использовать систему контроля версий\\t->\\tСмышленый\\t\\nИспользовать облако google drive\\t->\\tГений\\t\\nИспользовать переписку с собой в VK\\t->\\tСверхразум\\t\"\n",
    "print(tabbed_line)\n",
    "\n",
    "print()\n",
    "\n",
    "unicode_line = \"\\u16D0\\u16A2\\u16C8\\u16B3\\u16d9\"\n",
    "print(unicode_line)\n"
   ]
  },
  {
   "cell_type": "markdown",
   "metadata": {},
   "source": [
    "Отдельные два важных случая - *сырая строка*(англ. raw) и байтовая строка"
   ]
  },
  {
   "cell_type": "code",
   "execution_count": 4,
   "metadata": {},
   "outputs": [
    {
     "name": "stdout",
     "output_type": "stream",
     "text": [
      "c:\\Users\\Anaconda\temp_folder\n",
      "c:\\Users\\Anaconda\\temp_folder\n"
     ]
    }
   ],
   "source": [
    "normal_string = 'c:\\\\Users\\Anaconda\\temp_folder'\n",
    "raw_string = r\"c:\\Users\\Anaconda\\temp_folder\"\n",
    "\n",
    "print(normal_string)\n",
    "print(raw_string)"
   ]
  },
  {
   "cell_type": "code",
   "execution_count": 5,
   "metadata": {},
   "outputs": [
    {
     "name": "stdout",
     "output_type": "stream",
     "text": [
      "c:\\Users\\Anaconda\\temp_folder\n"
     ]
    }
   ],
   "source": [
    "print(raw_string)"
   ]
  },
  {
   "cell_type": "code",
   "execution_count": 4,
   "metadata": {},
   "outputs": [
    {
     "name": "stdout",
     "output_type": "stream",
     "text": [
      "b'\\xd0\\x9f\\xd0\\xb8\\xd1\\x88\\xd1\\x83 \\xd0\\xba\\xd0\\xbe\\xd0\\xb4 \\xd0\\xb7\\xd0\\xb0 \\xd0\\xb5\\xd0\\xb4\\xd1\\x83'\n"
     ]
    }
   ],
   "source": [
    "bytes_string = b\"\\xd0\"\n",
    "\n",
    "\n",
    "print(\"Пишу код за еду\".encode(\"UTF-8\"))"
   ]
  },
  {
   "cell_type": "code",
   "execution_count": 6,
   "metadata": {},
   "outputs": [],
   "source": [
    "message = \"Что-то пошло не так. Пожалуйста обратитесь в службу поддержки или к администратору\""
   ]
  },
  {
   "cell_type": "markdown",
   "metadata": {},
   "source": [
    "### Форматирование строк"
   ]
  },
  {
   "cell_type": "code",
   "execution_count": 32,
   "metadata": {},
   "outputs": [
    {
     "name": "stdout",
     "output_type": "stream",
     "text": [
      "Требуется кассир в пятерочку\n",
      "График полный рабочий день или сутки через раз\n",
      "Требования: граждансво РФ,возраст 18-35,высшее образование\n",
      "Откликнуться тел-1234567, email-5-ochka@mail.ru\n"
     ]
    }
   ],
   "source": [
    "print(\"Требуется {}\".format(\"кассир в пятерочку\"))\n",
    "print(\"График {} или {}\".format(\"полный рабочий день\",\"сутки через раз\"))\n",
    "print(\"Требования: {1},{2},{0}\".format(\"высшее образование\",\"граждансво РФ\",\"возраст 18-35\"))\n",
    "print(\"Откликнуться тел-{tele}, email-{mail}\".format(tele=\"1234567\", mail=\"5-ochka@mail.ru\"))"
   ]
  },
  {
   "cell_type": "markdown",
   "metadata": {},
   "source": [
    "## Списки"
   ]
  },
  {
   "cell_type": "markdown",
   "metadata": {},
   "source": [
    "__Список__ - упорядоченная коллекция элементов произвольных типов"
   ]
  },
  {
   "cell_type": "code",
   "execution_count": 7,
   "metadata": {},
   "outputs": [
    {
     "name": "stdout",
     "output_type": "stream",
     "text": [
      "['первый', 'второй', 'первый'] ['Б', 'у', 'к', 'в', 'ы'] [1, 2, 3]\n",
      "[0, 0, 0, 0, 0, 0, 0, 0, 0, 0]\n"
     ]
    }
   ],
   "source": [
    "l_0 = []\n",
    "\n",
    "l_1 = [1,2,3,4,5,6,7,8,9,10]\n",
    "l_2 = [0,False,[1,2,\"Three\",[4,True]],\"last\"]\n",
    "\n",
    "l_3 = list((\"первый\",\"второй\",\"первый\"))\n",
    "l_4 = list(\"Буквы\")\n",
    "l_5 = list([1,2,3])\n",
    "l_6 = [0] * 10\n",
    "\n",
    "print(l_3, l_4, l_5)\n",
    "print(l_6)"
   ]
  },
  {
   "cell_type": "markdown",
   "metadata": {},
   "source": [
    "Элементы в списке можно добавлять, удалять, сортировать и т.д."
   ]
  },
  {
   "cell_type": "code",
   "execution_count": 8,
   "metadata": {},
   "outputs": [
    {
     "name": "stdout",
     "output_type": "stream",
     "text": [
      "['Зеленая книга', 'Защитники', 'Омерзительная восьмерка', 'Горько']\n",
      "['Зеленая книга', 'Защитники', 'Омерзительная восьмерка', 'Мстители', 'Горько', 'Сияние']\n",
      "['Зеленая книга', 'Омерзительная восьмерка', 'Мстители', 'Сияние']\n"
     ]
    }
   ],
   "source": [
    "films = [\"Зеленая книга\", \"Защитники\", \"Омерзительная восьмерка\", \"Горько\"]\n",
    "print(films)\n",
    "\n",
    "films.append(\"Сияние\")\n",
    "films.insert(3, \"Мстители\")\n",
    "print(films)\n",
    "\n",
    "poped_film = films.pop(1)\n",
    "films.remove(\"Горько\")\n",
    "print(films)"
   ]
  },
  {
   "cell_type": "markdown",
   "metadata": {},
   "source": [
    "## Индексы и срезы"
   ]
  },
  {
   "cell_type": "markdown",
   "metadata": {},
   "source": [
    "Обращение к элементам строк и спискам происходит через индексы(англ. Indies) "
   ]
  },
  {
   "cell_type": "code",
   "execution_count": 9,
   "metadata": {},
   "outputs": [
    {
     "name": "stdout",
     "output_type": "stream",
     "text": [
      "Зеленая книга\n",
      "Ч\n",
      "['Зеленая миля', 'Омерзительная восьмерка', 'Мстители', 'Сияние']\n"
     ]
    }
   ],
   "source": [
    "print(films[0])\n",
    "print(message[0])\n",
    "\n",
    "films[0] = \"Зеленая миля\"\n",
    "print(films)"
   ]
  },
  {
   "cell_type": "markdown",
   "metadata": {},
   "source": [
    "Индексы могут быть отрицательныи. Отрицательные индексы нужны для того, чтобы обрашаться к элементам списка или к символам строки с конца"
   ]
  },
  {
   "cell_type": "code",
   "execution_count": 10,
   "metadata": {},
   "outputs": [
    {
     "name": "stdout",
     "output_type": "stream",
     "text": [
      "Сияние\n",
      "т\n"
     ]
    }
   ],
   "source": [
    "print(films[-1])\n",
    "print(message[-4])"
   ]
  },
  {
   "cell_type": "markdown",
   "metadata": {},
   "source": [
    "Вместо индексов можно пользоваться __срезами__(англ. slices). Срезы имеют три параметра. Стартовый индекс, конечный индекс и шаг. Все параметры перечисляются символом двоеточия"
   ]
  },
  {
   "cell_type": "code",
   "execution_count": 11,
   "metadata": {},
   "outputs": [
    {
     "name": "stdout",
     "output_type": "stream",
     "text": [
      "['Зеленая миля', 'Омерзительная восьмерка', 'Мстители', 'Сияние']\n",
      "Что-то пошло не так. Пожалуйста обратитесь в службу поддержки или к администратору\n",
      "\n",
      "['Омерзительная восьмерка', 'Мстители']\n",
      "то пошло не так. Пожалуйста обратитесь в службу поддержки или к админ\n",
      "['Зеленая миля', 'Омерзительная восьмерка', 'Мстители']\n",
      "т ол етк оаусаорттс  лжупдежииикамн\n",
      "нимда к или икжреддоп убжулс в ьсетитарбо атсйулажоП .кат ен олшоп от\n",
      "Что-то пошло не так. Пожалуйста обратитесь в службу поддержки или к администратору\n",
      "то пошло не так. Пожалуйста обратитесь в службу поддержки или к администратору\n",
      "Что-то пошло не так. Пожалуйста обратитесь в службу поддержки или к админ\n",
      "Что-то пошло не так. Пожалуйста обратитесь в службу поддержки или к администратору\n",
      "уротартсинимда к или икжреддоп убжулс в ьсетитарбо атсйулажоП .кат ен олшоп от-отЧ\n"
     ]
    }
   ],
   "source": [
    "print(films)\n",
    "print(message)\n",
    "print()\n",
    "\n",
    "print(films[1:-1])\n",
    "print(message[4:-9])\n",
    "print(films[0:-1:1])\n",
    "print(message[4:-9:2])\n",
    "print(message[-10:3:-1])\n",
    "print(message[:])\n",
    "print(message[4:])\n",
    "print(message[:-9])\n",
    "print(message[::])\n",
    "print(message[::-1])"
   ]
  },
  {
   "cell_type": "markdown",
   "metadata": {},
   "source": [
    "## Определение размера"
   ]
  },
  {
   "cell_type": "code",
   "execution_count": 12,
   "metadata": {},
   "outputs": [
    {
     "name": "stdout",
     "output_type": "stream",
     "text": [
      "500\n",
      "6\n",
      "5\n"
     ]
    }
   ],
   "source": [
    "long_string = \"Слово\" * 100\n",
    "short_string = \"Привет\"\n",
    "\n",
    "print(len(long_string))\n",
    "print(len(short_string))\n",
    "\n",
    "list_of_digits = [1,2,3,4,5]\n",
    "print(len(list_of_digits))"
   ]
  },
  {
   "cell_type": "markdown",
   "metadata": {},
   "source": [
    "## Оператор сложения"
   ]
  },
  {
   "cell_type": "markdown",
   "metadata": {},
   "source": [
    "Сложение двух строк называется __конкатенацией__ этих строк. Вторая строка присоедянется к концу первой строки"
   ]
  },
  {
   "cell_type": "code",
   "execution_count": 13,
   "metadata": {},
   "outputs": [
    {
     "name": "stdout",
     "output_type": "stream",
     "text": [
      "Hello  world!\n"
     ]
    }
   ],
   "source": [
    "first_string = \"Hello \"\n",
    "second_string = \" world!\"\n",
    "concated_string = first_string + second_string\n",
    "print(concated_string)"
   ]
  },
  {
   "cell_type": "markdown",
   "metadata": {},
   "source": [
    "Сложение двух списков называется __расширением__ этих списков. Содержимое второго списка добавляется в конец первого списка"
   ]
  },
  {
   "cell_type": "code",
   "execution_count": 14,
   "metadata": {},
   "outputs": [
    {
     "name": "stdout",
     "output_type": "stream",
     "text": [
      "['Учиться', 'по', 'субботам', 'очень', 'здорово']\n",
      "['Учиться', 'по', 'субботам', 'очень', 'здорово']\n"
     ]
    }
   ],
   "source": [
    "first_list = [\"Учиться\",\"по\",\"субботам\"]\n",
    "second_list = [\"очень\",\"здорово\"]\n",
    "extended_list = first_list + second_list\n",
    "print(extended_list)\n",
    "\n",
    "first_list.extend(second_list)\n",
    "print(first_list)"
   ]
  },
  {
   "cell_type": "markdown",
   "metadata": {},
   "source": [
    "__Дублирование__ строк и списков осуществляется с помощью оператора `*`"
   ]
  },
  {
   "cell_type": "code",
   "execution_count": 15,
   "metadata": {},
   "outputs": [
    {
     "name": "stdout",
     "output_type": "stream",
     "text": [
      "AgainAgainAgainAgainAgainAgainAgainAgainAgainAgain\n",
      "[0, 0, 0, 0, 0, 0, 0, 0, 0, 0]\n"
     ]
    }
   ],
   "source": [
    "dublicated_string = \"Again\" * 10\n",
    "print(dublicated_string)\n",
    "\n",
    "dublicated_list = [0] * 10\n",
    "\n",
    "print(dublicated_list)"
   ]
  },
  {
   "cell_type": "markdown",
   "metadata": {},
   "source": [
    "## Полезные методы строк и списков"
   ]
  },
  {
   "cell_type": "code",
   "execution_count": 26,
   "metadata": {},
   "outputs": [
    {
     "name": "stdout",
     "output_type": "stream",
     "text": [
      "['1', '10', '100', '1000', '10000', '100000']\n",
      "1-10-100-1000-10000-100000\n"
     ]
    }
   ],
   "source": [
    "some_string_to_parse = \"1 10 100 1000 10000 100000\"\n",
    "separated_list = some_string_to_parse.split(\" \")\n",
    "print(separated_list)\n",
    "\n",
    "joined_string = \"-\".join(separated_list)\n",
    "print(joined_string)"
   ]
  },
  {
   "cell_type": "markdown",
   "metadata": {},
   "source": [
    "## Кортежи"
   ]
  },
  {
   "cell_type": "markdown",
   "metadata": {},
   "source": [
    "__Кортеж__(англ. tuple) - это неизменяемый список."
   ]
  },
  {
   "cell_type": "code",
   "execution_count": 16,
   "metadata": {
    "scrolled": true
   },
   "outputs": [
    {
     "name": "stdout",
     "output_type": "stream",
     "text": [
      "(1, 2, 3, 4, 5)\n",
      "('s',)\n",
      "s\n"
     ]
    }
   ],
   "source": [
    "t_1 = (1,2,3,4,5)\n",
    "print(t_1)\n",
    "t_2 = tuple(\"s\")\n",
    "print(t_2)\n",
    "\n",
    "print(t_2[0])"
   ]
  },
  {
   "cell_type": "markdown",
   "metadata": {},
   "source": [
    "### Множества"
   ]
  },
  {
   "cell_type": "markdown",
   "metadata": {},
   "source": [
    "__Множество__(англ. set) - неупорядоченная коллекция неповторяющихся элементов"
   ]
  },
  {
   "cell_type": "code",
   "execution_count": 17,
   "metadata": {},
   "outputs": [],
   "source": [
    "set_A = {'Python', 'C', 'Java', 'Golang'}\n",
    "set_B = set([\"C++\",\"JS\",\"Java\", \"Python\"])"
   ]
  },
  {
   "cell_type": "markdown",
   "metadata": {},
   "source": [
    "Изменять множества можно аналогично спискам но другими методами"
   ]
  },
  {
   "cell_type": "code",
   "execution_count": 18,
   "metadata": {},
   "outputs": [
    {
     "name": "stdout",
     "output_type": "stream",
     "text": [
      "{'C', 'Python', 'Swift', 'Java'}\n",
      "{'C++', 'C', 'Python', 'Java'}\n",
      "{'C++', 'C', 'Python', 'Swift', 'Java'}\n"
     ]
    }
   ],
   "source": [
    "set_A.add(\"Swift\")\n",
    "set_B.add(\"C\")\n",
    "\n",
    "set_A.remove('Golang')\n",
    "set_B.discard(\"JS\")\n",
    "\n",
    "set_C = set()\n",
    "set_C.update(set_A)\n",
    "set_C.update(set_B)\n",
    "print(set_A)\n",
    "print(set_B)\n",
    "print(set_C)\n"
   ]
  },
  {
   "cell_type": "markdown",
   "metadata": {},
   "source": [
    "Множества предоставляют большие возможности"
   ]
  },
  {
   "cell_type": "code",
   "execution_count": 20,
   "metadata": {},
   "outputs": [
    {
     "name": "stdout",
     "output_type": "stream",
     "text": [
      "False\n",
      "True\n",
      "False\n",
      "True\n",
      "False\n",
      "False\n",
      "{'C++', 'C', 'Python', 'Swift', 'Java'}\n",
      "{'Python', 'C', 'Java'}\n",
      "{'Swift'}\n",
      "{'C++'}\n",
      "{'Swift', 'C++'}\n"
     ]
    }
   ],
   "source": [
    "print(set_A.isdisjoint(set_B)) # Если нет общих элементов\n",
    "print(set_B.isdisjoint({\"Rust\"}))\n",
    "print(set_A == set_B) # Равенство двух множеств\n",
    "print(set_A == {'Python', 'C', 'Swift', 'Java'})\n",
    "\n",
    "print(set_A <= set_B) # Все элементы A принадлежат B\n",
    "print(set_A >= set_B) # Все элементы B принадлежат B\n",
    "\n",
    "print(set_A | set_B) # Объединение двух множеств\n",
    "print(set_A & set_B) # Пересечение двух множеств\n",
    "print(set_A - set_B) # Подмножество не пересекающееся с B\n",
    "print(set_B - set_A) # ~ с А\n",
    "print(set_A ^ set_B) # Исключающее или\n"
   ]
  },
  {
   "cell_type": "markdown",
   "metadata": {},
   "source": [
    "# Словари"
   ]
  },
  {
   "cell_type": "markdown",
   "metadata": {},
   "source": [
    "__Словарь__ - неупорядоченная коллекция элементов разных типов с доступом по уникальному хеширующемуся ключу. В качестве ключа часто используют строчные объекты "
   ]
  },
  {
   "cell_type": "code",
   "execution_count": 21,
   "metadata": {},
   "outputs": [
    {
     "name": "stdout",
     "output_type": "stream",
     "text": [
      "{'Iphone Xs': 92990, 'GalaxyS10': 69990, 'Xiomi': 39990, 'Honor 8A': 9990}\n",
      "dict_items([('Iphone Xs', 92990), ('GalaxyS10', 69990), ('Xiomi', 39990), ('Honor 8A', 9990)])\n",
      "dict_keys(['Iphone Xs', 'GalaxyS10', 'Xiomi', 'Honor 8A'])\n",
      "dict_values([92990, 69990, 39990, 9990])\n",
      "None\n"
     ]
    }
   ],
   "source": [
    "prices = {\"Iphone Xs\":92990, \"GalaxyS10\":69990, \"Xiomi\":39990}\n",
    "\n",
    "prices[\"Honor 8A\"] = 9990\n",
    "print(prices)\n",
    "\n",
    "print(prices.items())\n",
    "print(prices.keys())\n",
    "print(prices.values())\n",
    "print(prices.get(\"Iphone 8S\"))"
   ]
  }
 ],
 "metadata": {
  "kernelspec": {
   "display_name": "Python 3",
   "language": "python",
   "name": "python3"
  },
  "language_info": {
   "codemirror_mode": {
    "name": "ipython",
    "version": 3
   },
   "file_extension": ".py",
   "mimetype": "text/x-python",
   "name": "python",
   "nbconvert_exporter": "python",
   "pygments_lexer": "ipython3",
   "version": "3.7.1"
  }
 },
 "nbformat": 4,
 "nbformat_minor": 2
}
